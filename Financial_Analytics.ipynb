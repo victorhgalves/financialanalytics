{
  "nbformat": 4,
  "nbformat_minor": 0,
  "metadata": {
    "colab": {
      "name": "Financial Analytics",
      "provenance": [],
      "collapsed_sections": [],
      "authorship_tag": "ABX9TyPXrnZ7bDSDE9uK2q/hi0AG",
      "include_colab_link": true
    },
    "kernelspec": {
      "name": "python3",
      "display_name": "Python 3"
    }
  },
  "cells": [
    {
      "cell_type": "markdown",
      "metadata": {
        "id": "view-in-github",
        "colab_type": "text"
      },
      "source": [
        "<a href=\"https://colab.research.google.com/github/victorhgalves/financialanalytics/blob/master/Financial_Analytics.ipynb\" target=\"_parent\"><img src=\"https://colab.research.google.com/assets/colab-badge.svg\" alt=\"Open In Colab\"/></a>"
      ]
    },
    {
      "cell_type": "code",
      "metadata": {
        "id": "zj31DlZt98Xw",
        "colab_type": "code",
        "colab": {
          "base_uri": "https://localhost:8080/",
          "height": 51
        },
        "outputId": "e3f44bef-020b-4295-9af6-9698a52ec78f"
      },
      "source": [
        "import pandas as pd\n",
        "import numpy as np\n",
        "import matplotlib.pyplot as plt\n",
        "import seaborn as sns\n",
        "from   datetime import datetime\n",
        "from   statsmodels.tsa.arima_model import ARIMA\n",
        "from   pandas_datareader import data"
      ],
      "execution_count": null,
      "outputs": [
        {
          "output_type": "stream",
          "text": [
            "/usr/local/lib/python3.6/dist-packages/statsmodels/tools/_testing.py:19: FutureWarning: pandas.util.testing is deprecated. Use the functions in the public API at pandas.testing instead.\n",
            "  import pandas.util.testing as tm\n"
          ],
          "name": "stderr"
        }
      ]
    },
    {
      "cell_type": "code",
      "metadata": {
        "id": "7AHemz-D-K1s",
        "colab_type": "code",
        "colab": {}
      },
      "source": [
        "start_date = '2016-01-01'\n",
        "end_date   = '2016-12-31'\n",
        "df = data.DataReader('PETR4.SA', 'yahoo', start_date, end_date)"
      ],
      "execution_count": null,
      "outputs": []
    },
    {
      "cell_type": "code",
      "metadata": {
        "id": "zfdUY7pLJ5vG",
        "colab_type": "code",
        "colab": {}
      },
      "source": [
        "df.reset_index(inplace= True)"
      ],
      "execution_count": null,
      "outputs": []
    },
    {
      "cell_type": "code",
      "metadata": {
        "id": "qgRT9W5OIefA",
        "colab_type": "code",
        "colab": {
          "base_uri": "https://localhost:8080/",
          "height": 34
        },
        "outputId": "a9854778-84c2-47ef-bb37-9ec343fc33ba"
      },
      "source": [
        "df.shape"
      ],
      "execution_count": null,
      "outputs": [
        {
          "output_type": "execute_result",
          "data": {
            "text/plain": [
              "(249, 7)"
            ]
          },
          "metadata": {
            "tags": []
          },
          "execution_count": 4
        }
      ]
    },
    {
      "cell_type": "code",
      "metadata": {
        "id": "ptWp1smPC3AX",
        "colab_type": "code",
        "colab": {
          "base_uri": "https://localhost:8080/",
          "height": 204
        },
        "outputId": "c9844345-4853-4b5c-8bf1-c78b0fbf2b7e"
      },
      "source": [
        "df.head()"
      ],
      "execution_count": null,
      "outputs": [
        {
          "output_type": "execute_result",
          "data": {
            "text/html": [
              "<div>\n",
              "<style scoped>\n",
              "    .dataframe tbody tr th:only-of-type {\n",
              "        vertical-align: middle;\n",
              "    }\n",
              "\n",
              "    .dataframe tbody tr th {\n",
              "        vertical-align: top;\n",
              "    }\n",
              "\n",
              "    .dataframe thead th {\n",
              "        text-align: right;\n",
              "    }\n",
              "</style>\n",
              "<table border=\"1\" class=\"dataframe\">\n",
              "  <thead>\n",
              "    <tr style=\"text-align: right;\">\n",
              "      <th></th>\n",
              "      <th>Date</th>\n",
              "      <th>High</th>\n",
              "      <th>Low</th>\n",
              "      <th>Open</th>\n",
              "      <th>Close</th>\n",
              "      <th>Volume</th>\n",
              "      <th>Adj Close</th>\n",
              "    </tr>\n",
              "  </thead>\n",
              "  <tbody>\n",
              "    <tr>\n",
              "      <th>0</th>\n",
              "      <td>2016-01-04</td>\n",
              "      <td>7.03</td>\n",
              "      <td>6.55</td>\n",
              "      <td>6.57</td>\n",
              "      <td>6.87</td>\n",
              "      <td>45962100</td>\n",
              "      <td>6.373444</td>\n",
              "    </tr>\n",
              "    <tr>\n",
              "      <th>1</th>\n",
              "      <td>2016-01-05</td>\n",
              "      <td>7.00</td>\n",
              "      <td>6.62</td>\n",
              "      <td>6.92</td>\n",
              "      <td>6.68</td>\n",
              "      <td>29446700</td>\n",
              "      <td>6.197176</td>\n",
              "    </tr>\n",
              "    <tr>\n",
              "      <th>2</th>\n",
              "      <td>2016-01-06</td>\n",
              "      <td>6.54</td>\n",
              "      <td>6.40</td>\n",
              "      <td>6.53</td>\n",
              "      <td>6.40</td>\n",
              "      <td>67507200</td>\n",
              "      <td>5.937414</td>\n",
              "    </tr>\n",
              "    <tr>\n",
              "      <th>3</th>\n",
              "      <td>2016-01-07</td>\n",
              "      <td>6.43</td>\n",
              "      <td>6.08</td>\n",
              "      <td>6.19</td>\n",
              "      <td>6.26</td>\n",
              "      <td>57387900</td>\n",
              "      <td>5.807534</td>\n",
              "    </tr>\n",
              "    <tr>\n",
              "      <th>4</th>\n",
              "      <td>2016-01-08</td>\n",
              "      <td>6.45</td>\n",
              "      <td>6.13</td>\n",
              "      <td>6.38</td>\n",
              "      <td>6.27</td>\n",
              "      <td>52100300</td>\n",
              "      <td>5.816810</td>\n",
              "    </tr>\n",
              "  </tbody>\n",
              "</table>\n",
              "</div>"
            ],
            "text/plain": [
              "        Date  High   Low  Open  Close    Volume  Adj Close\n",
              "0 2016-01-04  7.03  6.55  6.57   6.87  45962100   6.373444\n",
              "1 2016-01-05  7.00  6.62  6.92   6.68  29446700   6.197176\n",
              "2 2016-01-06  6.54  6.40  6.53   6.40  67507200   5.937414\n",
              "3 2016-01-07  6.43  6.08  6.19   6.26  57387900   5.807534\n",
              "4 2016-01-08  6.45  6.13  6.38   6.27  52100300   5.816810"
            ]
          },
          "metadata": {
            "tags": []
          },
          "execution_count": 5
        }
      ]
    },
    {
      "cell_type": "code",
      "metadata": {
        "id": "Owhb3fyOImLv",
        "colab_type": "code",
        "colab": {
          "base_uri": "https://localhost:8080/",
          "height": 255
        },
        "outputId": "6121ce41-26d7-47e8-b99a-0b9c78e62a7e"
      },
      "source": [
        "df.info()"
      ],
      "execution_count": null,
      "outputs": [
        {
          "output_type": "stream",
          "text": [
            "<class 'pandas.core.frame.DataFrame'>\n",
            "RangeIndex: 249 entries, 0 to 248\n",
            "Data columns (total 7 columns):\n",
            " #   Column     Non-Null Count  Dtype         \n",
            "---  ------     --------------  -----         \n",
            " 0   Date       249 non-null    datetime64[ns]\n",
            " 1   High       249 non-null    float64       \n",
            " 2   Low        249 non-null    float64       \n",
            " 3   Open       249 non-null    float64       \n",
            " 4   Close      249 non-null    float64       \n",
            " 5   Volume     249 non-null    int64         \n",
            " 6   Adj Close  249 non-null    float64       \n",
            "dtypes: datetime64[ns](1), float64(5), int64(1)\n",
            "memory usage: 13.7 KB\n"
          ],
          "name": "stdout"
        }
      ]
    },
    {
      "cell_type": "code",
      "metadata": {
        "id": "xtku9kmL-nMg",
        "colab_type": "code",
        "colab": {}
      },
      "source": [
        "#Variavel de variancia entre abertura e fechamento do ativo no dia.\n",
        "df['Variance'] = df['Close'] - df['Open']"
      ],
      "execution_count": null,
      "outputs": []
    },
    {
      "cell_type": "code",
      "metadata": {
        "id": "7YlTHXnmBNb-",
        "colab_type": "code",
        "colab": {}
      },
      "source": [
        "#Separação do período do mês para analise.\n",
        "labels = ['Inicio','Meio','Fim']\n",
        "df['Period Month'] = pd.cut(df['Date'].dt.day, bins=3, labels=labels)"
      ],
      "execution_count": null,
      "outputs": []
    },
    {
      "cell_type": "code",
      "metadata": {
        "id": "xNflyFbVDe3u",
        "colab_type": "code",
        "colab": {}
      },
      "source": [
        "#Separação do período do ano por mês para analise\n",
        "labels = ['Inicio','Meio','Fim']\n",
        "df['Period Year'] = pd.cut(df['Date'].dt.month, bins=3, labels=labels)"
      ],
      "execution_count": null,
      "outputs": []
    },
    {
      "cell_type": "code",
      "metadata": {
        "id": "z8l-MxFu-x8P",
        "colab_type": "code",
        "colab": {
          "base_uri": "https://localhost:8080/",
          "height": 297
        },
        "outputId": "0eb85c02-7a44-418b-8947-557a89145a39"
      },
      "source": [
        "df.describe()"
      ],
      "execution_count": null,
      "outputs": [
        {
          "output_type": "execute_result",
          "data": {
            "text/html": [
              "<div>\n",
              "<style scoped>\n",
              "    .dataframe tbody tr th:only-of-type {\n",
              "        vertical-align: middle;\n",
              "    }\n",
              "\n",
              "    .dataframe tbody tr th {\n",
              "        vertical-align: top;\n",
              "    }\n",
              "\n",
              "    .dataframe thead th {\n",
              "        text-align: right;\n",
              "    }\n",
              "</style>\n",
              "<table border=\"1\" class=\"dataframe\">\n",
              "  <thead>\n",
              "    <tr style=\"text-align: right;\">\n",
              "      <th></th>\n",
              "      <th>High</th>\n",
              "      <th>Low</th>\n",
              "      <th>Open</th>\n",
              "      <th>Close</th>\n",
              "      <th>Volume</th>\n",
              "      <th>Adj Close</th>\n",
              "      <th>Variance</th>\n",
              "    </tr>\n",
              "  </thead>\n",
              "  <tbody>\n",
              "    <tr>\n",
              "      <th>count</th>\n",
              "      <td>249.000000</td>\n",
              "      <td>249.000000</td>\n",
              "      <td>249.000000</td>\n",
              "      <td>249.000000</td>\n",
              "      <td>2.490000e+02</td>\n",
              "      <td>249.000000</td>\n",
              "      <td>249.000000</td>\n",
              "    </tr>\n",
              "    <tr>\n",
              "      <th>mean</th>\n",
              "      <td>11.001044</td>\n",
              "      <td>10.552851</td>\n",
              "      <td>10.785341</td>\n",
              "      <td>10.772610</td>\n",
              "      <td>5.744280e+07</td>\n",
              "      <td>9.993977</td>\n",
              "      <td>-0.012731</td>\n",
              "    </tr>\n",
              "    <tr>\n",
              "      <th>std</th>\n",
              "      <td>3.832798</td>\n",
              "      <td>3.752389</td>\n",
              "      <td>3.806743</td>\n",
              "      <td>3.792668</td>\n",
              "      <td>2.583240e+07</td>\n",
              "      <td>3.518538</td>\n",
              "      <td>0.325701</td>\n",
              "    </tr>\n",
              "    <tr>\n",
              "      <th>min</th>\n",
              "      <td>4.270000</td>\n",
              "      <td>4.120000</td>\n",
              "      <td>4.200000</td>\n",
              "      <td>4.200000</td>\n",
              "      <td>3.248000e+05</td>\n",
              "      <td>3.896428</td>\n",
              "      <td>-1.600000</td>\n",
              "    </tr>\n",
              "    <tr>\n",
              "      <th>25%</th>\n",
              "      <td>8.340000</td>\n",
              "      <td>8.030000</td>\n",
              "      <td>8.150000</td>\n",
              "      <td>8.230000</td>\n",
              "      <td>4.364590e+07</td>\n",
              "      <td>7.635143</td>\n",
              "      <td>-0.190000</td>\n",
              "    </tr>\n",
              "    <tr>\n",
              "      <th>50%</th>\n",
              "      <td>10.360000</td>\n",
              "      <td>9.850000</td>\n",
              "      <td>10.230000</td>\n",
              "      <td>10.210000</td>\n",
              "      <td>5.369200e+07</td>\n",
              "      <td>9.472032</td>\n",
              "      <td>0.009999</td>\n",
              "    </tr>\n",
              "    <tr>\n",
              "      <th>75%</th>\n",
              "      <td>14.020000</td>\n",
              "      <td>13.620000</td>\n",
              "      <td>13.890000</td>\n",
              "      <td>13.980000</td>\n",
              "      <td>6.981870e+07</td>\n",
              "      <td>12.969539</td>\n",
              "      <td>0.150001</td>\n",
              "    </tr>\n",
              "    <tr>\n",
              "      <th>max</th>\n",
              "      <td>18.490000</td>\n",
              "      <td>18.090000</td>\n",
              "      <td>18.260000</td>\n",
              "      <td>18.200001</td>\n",
              "      <td>1.867725e+08</td>\n",
              "      <td>16.884525</td>\n",
              "      <td>0.799999</td>\n",
              "    </tr>\n",
              "  </tbody>\n",
              "</table>\n",
              "</div>"
            ],
            "text/plain": [
              "             High         Low        Open  ...        Volume   Adj Close    Variance\n",
              "count  249.000000  249.000000  249.000000  ...  2.490000e+02  249.000000  249.000000\n",
              "mean    11.001044   10.552851   10.785341  ...  5.744280e+07    9.993977   -0.012731\n",
              "std      3.832798    3.752389    3.806743  ...  2.583240e+07    3.518538    0.325701\n",
              "min      4.270000    4.120000    4.200000  ...  3.248000e+05    3.896428   -1.600000\n",
              "25%      8.340000    8.030000    8.150000  ...  4.364590e+07    7.635143   -0.190000\n",
              "50%     10.360000    9.850000   10.230000  ...  5.369200e+07    9.472032    0.009999\n",
              "75%     14.020000   13.620000   13.890000  ...  6.981870e+07   12.969539    0.150001\n",
              "max     18.490000   18.090000   18.260000  ...  1.867725e+08   16.884525    0.799999\n",
              "\n",
              "[8 rows x 7 columns]"
            ]
          },
          "metadata": {
            "tags": []
          },
          "execution_count": 85
        }
      ]
    },
    {
      "cell_type": "code",
      "metadata": {
        "id": "sTBma3us-sEg",
        "colab_type": "code",
        "colab": {
          "base_uri": "https://localhost:8080/",
          "height": 293
        },
        "outputId": "9f5c1c62-2c55-4be5-a064-0929f6e6aef4"
      },
      "source": [
        "df.plot(x='Date', y='Variance',grid = True)\n",
        "plt.xlabel('Data')\n",
        "plt.ylabel('Variância')\n",
        "plt.title('Analise de Variancia')\n",
        "plt.show()"
      ],
      "execution_count": null,
      "outputs": [
        {
          "output_type": "display_data",
          "data": {
            "image/png": "[encoded data removed]",
            "text/plain": [
              "<Figure size 432x288 with 1 Axes>"
            ]
          },
          "metadata": {
            "tags": [],
            "needs_background": "light"
          }
        }
      ]
    },
    {
      "cell_type": "code",
      "metadata": {
        "id": "OwxL-SGkDSBt",
        "colab_type": "code",
        "colab": {
          "base_uri": "https://localhost:8080/",
          "height": 293
        },
        "outputId": "f5672417-878d-437b-b11a-e0b1d798d144"
      },
      "source": [
        "df.plot(x='Date', y='Open',grid = True)\n",
        "plt.xlabel('Data')\n",
        "plt.ylabel('Valor de Abertura')\n",
        "plt.title('Analise de Abertura por Mẽs')\n",
        "plt.show()"
      ],
      "execution_count": null,
      "outputs": [
        {
          "output_type": "display_data",
          "data": {
            "image/png": "[encoded data removed]",
            "text/plain": [
              "<Figure size 432x288 with 1 Axes>"
            ]
          },
          "metadata": {
            "tags": [],
            "needs_background": "light"
          }
        }
      ]
    },
    {
      "cell_type": "code",
      "metadata": {
        "id": "alySPvVdFo2v",
        "colab_type": "code",
        "colab": {
          "base_uri": "https://localhost:8080/",
          "height": 293
        },
        "outputId": "ce2305e2-5c26-43ee-9b1e-565c709bf2d0"
      },
      "source": [
        "df.plot(x='Date', y='Close',grid = True)\n",
        "plt.xlabel('Data')\n",
        "plt.ylabel('Valor de Abertura')\n",
        "plt.title('Analise de Fechamento por Mẽs')\n",
        "plt.show()"
      ],
      "execution_count": null,
      "outputs": [
        {
          "output_type": "display_data",
          "data": {
            "image/png": "[encoded data removed]",
            "text/plain": [
              "<Figure size 432x288 with 1 Axes>"
            ]
          },
          "metadata": {
            "tags": [],
            "needs_background": "light"
          }
        }
      ]
    },
    {
      "cell_type": "code",
      "metadata": {
        "id": "w7-gbD2SO-Gh",
        "colab_type": "code",
        "colab": {
          "base_uri": "https://localhost:8080/",
          "height": 293
        },
        "outputId": "5b82adba-dceb-4006-d8fa-8974e47b7fb3"
      },
      "source": [
        "df.plot(x='Date', y='High',grid = True)\n",
        "plt.xlabel('Data')\n",
        "plt.ylabel('Valor de Abertura')\n",
        "plt.title('Analise de Alta')\n",
        "plt.show()"
      ],
      "execution_count": null,
      "outputs": [
        {
          "output_type": "display_data",
          "data": {
            "image/png": "[encoded data removed]",
            "text/plain": [
              "<Figure size 432x288 with 1 Axes>"
            ]
          },
          "metadata": {
            "tags": [],
            "needs_background": "light"
          }
        }
      ]
    },
    {
      "cell_type": "code",
      "metadata": {
        "id": "tB8MzncOPJXK",
        "colab_type": "code",
        "colab": {
          "base_uri": "https://localhost:8080/",
          "height": 293
        },
        "outputId": "bf38d4b0-59d6-4432-ba69-f16163194ef7"
      },
      "source": [
        "df.plot(x='Date', y='Low',grid = True)\n",
        "plt.xlabel('Data')\n",
        "plt.ylabel('Valor de Abertura')\n",
        "plt.title('Analise de Baixa')\n",
        "plt.show()"
      ],
      "execution_count": null,
      "outputs": [
        {
          "output_type": "display_data",
          "data": {
            "image/png": "[encoded data removed]",
            "text/plain": [
              "<Figure size 432x288 with 1 Axes>"
            ]
          },
          "metadata": {
            "tags": [],
            "needs_background": "light"
          }
        }
      ]
    },
    {
      "cell_type": "code",
      "metadata": {
        "id": "K2Gcfaz9GdHH",
        "colab_type": "code",
        "colab": {
          "base_uri": "https://localhost:8080/",
          "height": 266
        },
        "outputId": "7fedb091-d6c1-4b0b-c29a-b43ef067f38a"
      },
      "source": [
        "df.corr()"
      ],
      "execution_count": null,
      "outputs": [
        {
          "output_type": "execute_result",
          "data": {
            "text/html": [
              "<div>\n",
              "<style scoped>\n",
              "    .dataframe tbody tr th:only-of-type {\n",
              "        vertical-align: middle;\n",
              "    }\n",
              "\n",
              "    .dataframe tbody tr th {\n",
              "        vertical-align: top;\n",
              "    }\n",
              "\n",
              "    .dataframe thead th {\n",
              "        text-align: right;\n",
              "    }\n",
              "</style>\n",
              "<table border=\"1\" class=\"dataframe\">\n",
              "  <thead>\n",
              "    <tr style=\"text-align: right;\">\n",
              "      <th></th>\n",
              "      <th>High</th>\n",
              "      <th>Low</th>\n",
              "      <th>Open</th>\n",
              "      <th>Close</th>\n",
              "      <th>Volume</th>\n",
              "      <th>Adj Close</th>\n",
              "      <th>Variance</th>\n",
              "    </tr>\n",
              "  </thead>\n",
              "  <tbody>\n",
              "    <tr>\n",
              "      <th>High</th>\n",
              "      <td>1.000000</td>\n",
              "      <td>0.998051</td>\n",
              "      <td>0.998739</td>\n",
              "      <td>0.998071</td>\n",
              "      <td>-0.242104</td>\n",
              "      <td>0.998071</td>\n",
              "      <td>-0.050932</td>\n",
              "    </tr>\n",
              "    <tr>\n",
              "      <th>Low</th>\n",
              "      <td>0.998051</td>\n",
              "      <td>1.000000</td>\n",
              "      <td>0.998215</td>\n",
              "      <td>0.998562</td>\n",
              "      <td>-0.280535</td>\n",
              "      <td>0.998562</td>\n",
              "      <td>-0.039097</td>\n",
              "    </tr>\n",
              "    <tr>\n",
              "      <th>Open</th>\n",
              "      <td>0.998739</td>\n",
              "      <td>0.998215</td>\n",
              "      <td>1.000000</td>\n",
              "      <td>0.996333</td>\n",
              "      <td>-0.261821</td>\n",
              "      <td>0.996333</td>\n",
              "      <td>-0.085913</td>\n",
              "    </tr>\n",
              "    <tr>\n",
              "      <th>Close</th>\n",
              "      <td>0.998071</td>\n",
              "      <td>0.998562</td>\n",
              "      <td>0.996333</td>\n",
              "      <td>1.000000</td>\n",
              "      <td>-0.260767</td>\n",
              "      <td>1.000000</td>\n",
              "      <td>-0.000356</td>\n",
              "    </tr>\n",
              "    <tr>\n",
              "      <th>Volume</th>\n",
              "      <td>-0.242104</td>\n",
              "      <td>-0.280535</td>\n",
              "      <td>-0.261821</td>\n",
              "      <td>-0.260767</td>\n",
              "      <td>1.000000</td>\n",
              "      <td>-0.260767</td>\n",
              "      <td>0.023591</td>\n",
              "    </tr>\n",
              "    <tr>\n",
              "      <th>Adj Close</th>\n",
              "      <td>0.998071</td>\n",
              "      <td>0.998562</td>\n",
              "      <td>0.996333</td>\n",
              "      <td>1.000000</td>\n",
              "      <td>-0.260767</td>\n",
              "      <td>1.000000</td>\n",
              "      <td>-0.000356</td>\n",
              "    </tr>\n",
              "    <tr>\n",
              "      <th>Variance</th>\n",
              "      <td>-0.050932</td>\n",
              "      <td>-0.039097</td>\n",
              "      <td>-0.085913</td>\n",
              "      <td>-0.000356</td>\n",
              "      <td>0.023591</td>\n",
              "      <td>-0.000356</td>\n",
              "      <td>1.000000</td>\n",
              "    </tr>\n",
              "  </tbody>\n",
              "</table>\n",
              "</div>"
            ],
            "text/plain": [
              "               High       Low      Open  ...    Volume  Adj Close  Variance\n",
              "High       1.000000  0.998051  0.998739  ... -0.242104   0.998071 -0.050932\n",
              "Low        0.998051  1.000000  0.998215  ... -0.280535   0.998562 -0.039097\n",
              "Open       0.998739  0.998215  1.000000  ... -0.261821   0.996333 -0.085913\n",
              "Close      0.998071  0.998562  0.996333  ... -0.260767   1.000000 -0.000356\n",
              "Volume    -0.242104 -0.280535 -0.261821  ...  1.000000  -0.260767  0.023591\n",
              "Adj Close  0.998071  0.998562  0.996333  ... -0.260767   1.000000 -0.000356\n",
              "Variance  -0.050932 -0.039097 -0.085913  ...  0.023591  -0.000356  1.000000\n",
              "\n",
              "[7 rows x 7 columns]"
            ]
          },
          "metadata": {
            "tags": []
          },
          "execution_count": 105
        }
      ]
    },
    {
      "cell_type": "code",
      "metadata": {
        "id": "UjmmiUsOC3XL",
        "colab_type": "code",
        "colab": {
          "base_uri": "https://localhost:8080/",
          "height": 537
        },
        "outputId": "612e8e3a-bbcb-4724-a696-a4826f5e633a"
      },
      "source": [
        "fig, ax = plt.subplots(figsize=(11, 9))\n",
        "\n",
        "corr = df.select_dtypes(include=['float64']).corr()\n",
        "cmap = sns.diverging_palette(220, 10, as_cmap=True)\n",
        "mask = np.triu(np.ones_like(corr, dtype=np.bool))\n",
        "\n",
        "sns.heatmap(corr, mask=mask, cmap=cmap, square=True, linewidths=.5, cbar_kws={\"shrink\": .5})\n",
        "plt.show()"
      ],
      "execution_count": null,
      "outputs": [
        {
          "output_type": "display_data",
          "data": {
            "image/png": "[encoded data removed]",
            "text/plain": [
              "<Figure size 792x648 with 2 Axes>"
            ]
          },
          "metadata": {
            "tags": [],
            "needs_background": "light"
          }
        }
      ]
    },
    {
      "cell_type": "code",
      "metadata": {
        "id": "Asd5WjysJY6h",
        "colab_type": "code",
        "colab": {
          "base_uri": "https://localhost:8080/",
          "height": 142
        },
        "outputId": "678c1160-8879-41b8-a9bb-5960410773b9"
      },
      "source": [
        "#Verificando qual o mês com maior fechamento.\n",
        "top_month_close = df.nlargest(3, columns='Close')['Date'].dt.month\n",
        "top_month_close.reset_index().iloc[:,1:]"
      ],
      "execution_count": null,
      "outputs": [
        {
          "output_type": "execute_result",
          "data": {
            "text/html": [
              "<div>\n",
              "<style scoped>\n",
              "    .dataframe tbody tr th:only-of-type {\n",
              "        vertical-align: middle;\n",
              "    }\n",
              "\n",
              "    .dataframe tbody tr th {\n",
              "        vertical-align: top;\n",
              "    }\n",
              "\n",
              "    .dataframe thead th {\n",
              "        text-align: right;\n",
              "    }\n",
              "</style>\n",
              "<table border=\"1\" class=\"dataframe\">\n",
              "  <thead>\n",
              "    <tr style=\"text-align: right;\">\n",
              "      <th></th>\n",
              "      <th>Date</th>\n",
              "    </tr>\n",
              "  </thead>\n",
              "  <tbody>\n",
              "    <tr>\n",
              "      <th>0</th>\n",
              "      <td>10</td>\n",
              "    </tr>\n",
              "    <tr>\n",
              "      <th>1</th>\n",
              "      <td>10</td>\n",
              "    </tr>\n",
              "    <tr>\n",
              "      <th>2</th>\n",
              "      <td>10</td>\n",
              "    </tr>\n",
              "  </tbody>\n",
              "</table>\n",
              "</div>"
            ],
            "text/plain": [
              "   Date\n",
              "0    10\n",
              "1    10\n",
              "2    10"
            ]
          },
          "metadata": {
            "tags": []
          },
          "execution_count": 62
        }
      ]
    },
    {
      "cell_type": "code",
      "metadata": {
        "id": "lIFx6EVGKY3H",
        "colab_type": "code",
        "colab": {
          "base_uri": "https://localhost:8080/",
          "height": 142
        },
        "outputId": "6bd691f3-a1b6-4dee-8752-a603bdeed6b9"
      },
      "source": [
        "#Verificando qual o mês com maior volume.\n",
        "top_month_volume = df.nlargest(3, columns='Volume')['Date'].dt.month\n",
        "top_month_volume.reset_index().iloc[:,1:]"
      ],
      "execution_count": null,
      "outputs": [
        {
          "output_type": "execute_result",
          "data": {
            "text/html": [
              "<div>\n",
              "<style scoped>\n",
              "    .dataframe tbody tr th:only-of-type {\n",
              "        vertical-align: middle;\n",
              "    }\n",
              "\n",
              "    .dataframe tbody tr th {\n",
              "        vertical-align: top;\n",
              "    }\n",
              "\n",
              "    .dataframe thead th {\n",
              "        text-align: right;\n",
              "    }\n",
              "</style>\n",
              "<table border=\"1\" class=\"dataframe\">\n",
              "  <thead>\n",
              "    <tr style=\"text-align: right;\">\n",
              "      <th></th>\n",
              "      <th>Date</th>\n",
              "    </tr>\n",
              "  </thead>\n",
              "  <tbody>\n",
              "    <tr>\n",
              "      <th>0</th>\n",
              "      <td>3</td>\n",
              "    </tr>\n",
              "    <tr>\n",
              "      <th>1</th>\n",
              "      <td>3</td>\n",
              "    </tr>\n",
              "    <tr>\n",
              "      <th>2</th>\n",
              "      <td>3</td>\n",
              "    </tr>\n",
              "  </tbody>\n",
              "</table>\n",
              "</div>"
            ],
            "text/plain": [
              "   Date\n",
              "0     3\n",
              "1     3\n",
              "2     3"
            ]
          },
          "metadata": {
            "tags": []
          },
          "execution_count": 63
        }
      ]
    },
    {
      "cell_type": "code",
      "metadata": {
        "id": "JG2zbwDFNdQh",
        "colab_type": "code",
        "colab": {
          "base_uri": "https://localhost:8080/",
          "height": 142
        },
        "outputId": "81d29cba-8c62-4163-a295-4de23463038d"
      },
      "source": [
        "#Verificando qual periodo do mês com maior alta na abertura.\n",
        "top_period_month_open = df.nlargest(3, columns='Open')['Period Month']\n",
        "top_period_month_open.reset_index().iloc[:,1:]"
      ],
      "execution_count": null,
      "outputs": [
        {
          "output_type": "execute_result",
          "data": {
            "text/html": [
              "<div>\n",
              "<style scoped>\n",
              "    .dataframe tbody tr th:only-of-type {\n",
              "        vertical-align: middle;\n",
              "    }\n",
              "\n",
              "    .dataframe tbody tr th {\n",
              "        vertical-align: top;\n",
              "    }\n",
              "\n",
              "    .dataframe thead th {\n",
              "        text-align: right;\n",
              "    }\n",
              "</style>\n",
              "<table border=\"1\" class=\"dataframe\">\n",
              "  <thead>\n",
              "    <tr style=\"text-align: right;\">\n",
              "      <th></th>\n",
              "      <th>Period Month</th>\n",
              "    </tr>\n",
              "  </thead>\n",
              "  <tbody>\n",
              "    <tr>\n",
              "      <th>0</th>\n",
              "      <td>Fim</td>\n",
              "    </tr>\n",
              "    <tr>\n",
              "      <th>1</th>\n",
              "      <td>Fim</td>\n",
              "    </tr>\n",
              "    <tr>\n",
              "      <th>2</th>\n",
              "      <td>Fim</td>\n",
              "    </tr>\n",
              "  </tbody>\n",
              "</table>\n",
              "</div>"
            ],
            "text/plain": [
              "  Period Month\n",
              "0          Fim\n",
              "1          Fim\n",
              "2          Fim"
            ]
          },
          "metadata": {
            "tags": []
          },
          "execution_count": 100
        }
      ]
    },
    {
      "cell_type": "code",
      "metadata": {
        "id": "t750FKlU67dS",
        "colab_type": "code",
        "colab": {
          "base_uri": "https://localhost:8080/",
          "height": 142
        },
        "outputId": "4ac8c4c8-5dee-41ea-a958-1c134788ee97"
      },
      "source": [
        "#Verificando qual periodo do mês com maior alta no fechamento.\n",
        "top_period_month_close = df.nlargest(3, columns='Close')['Period Month']\n",
        "top_period_month_close.reset_index().iloc[:,1:]"
      ],
      "execution_count": null,
      "outputs": [
        {
          "output_type": "execute_result",
          "data": {
            "text/html": [
              "<div>\n",
              "<style scoped>\n",
              "    .dataframe tbody tr th:only-of-type {\n",
              "        vertical-align: middle;\n",
              "    }\n",
              "\n",
              "    .dataframe tbody tr th {\n",
              "        vertical-align: top;\n",
              "    }\n",
              "\n",
              "    .dataframe thead th {\n",
              "        text-align: right;\n",
              "    }\n",
              "</style>\n",
              "<table border=\"1\" class=\"dataframe\">\n",
              "  <thead>\n",
              "    <tr style=\"text-align: right;\">\n",
              "      <th></th>\n",
              "      <th>Period Month</th>\n",
              "    </tr>\n",
              "  </thead>\n",
              "  <tbody>\n",
              "    <tr>\n",
              "      <th>0</th>\n",
              "      <td>Fim</td>\n",
              "    </tr>\n",
              "    <tr>\n",
              "      <th>1</th>\n",
              "      <td>Fim</td>\n",
              "    </tr>\n",
              "    <tr>\n",
              "      <th>2</th>\n",
              "      <td>Fim</td>\n",
              "    </tr>\n",
              "  </tbody>\n",
              "</table>\n",
              "</div>"
            ],
            "text/plain": [
              "  Period Month\n",
              "0          Fim\n",
              "1          Fim\n",
              "2          Fim"
            ]
          },
          "metadata": {
            "tags": []
          },
          "execution_count": 102
        }
      ]
    },
    {
      "cell_type": "code",
      "metadata": {
        "id": "ye93Q8JFEtmo",
        "colab_type": "code",
        "colab": {
          "base_uri": "https://localhost:8080/",
          "height": 142
        },
        "outputId": "2e78174f-8e3c-466b-9d68-01d8880706d3"
      },
      "source": [
        "#Verificando qual periodo do mês com maior volume.\n",
        "top_period_month_high = df.nlargest(3, columns='Volume')['Period Month']\n",
        "top_period_month_high.reset_index().iloc[:,1:]"
      ],
      "execution_count": null,
      "outputs": [
        {
          "output_type": "execute_result",
          "data": {
            "text/html": [
              "<div>\n",
              "<style scoped>\n",
              "    .dataframe tbody tr th:only-of-type {\n",
              "        vertical-align: middle;\n",
              "    }\n",
              "\n",
              "    .dataframe tbody tr th {\n",
              "        vertical-align: top;\n",
              "    }\n",
              "\n",
              "    .dataframe thead th {\n",
              "        text-align: right;\n",
              "    }\n",
              "</style>\n",
              "<table border=\"1\" class=\"dataframe\">\n",
              "  <thead>\n",
              "    <tr style=\"text-align: right;\">\n",
              "      <th></th>\n",
              "      <th>Period Month</th>\n",
              "    </tr>\n",
              "  </thead>\n",
              "  <tbody>\n",
              "    <tr>\n",
              "      <th>0</th>\n",
              "      <td>Inicio</td>\n",
              "    </tr>\n",
              "    <tr>\n",
              "      <th>1</th>\n",
              "      <td>Inicio</td>\n",
              "    </tr>\n",
              "    <tr>\n",
              "      <th>2</th>\n",
              "      <td>Inicio</td>\n",
              "    </tr>\n",
              "  </tbody>\n",
              "</table>\n",
              "</div>"
            ],
            "text/plain": [
              "  Period Month\n",
              "0       Inicio\n",
              "1       Inicio\n",
              "2       Inicio"
            ]
          },
          "metadata": {
            "tags": []
          },
          "execution_count": 103
        }
      ]
    },
    {
      "cell_type": "code",
      "metadata": {
        "id": "hB7KPJoSFYes",
        "colab_type": "code",
        "colab": {
          "base_uri": "https://localhost:8080/",
          "height": 142
        },
        "outputId": "3d0acddd-4640-41ec-c959-62bad57fef3c"
      },
      "source": [
        "#Verificando qual periodo do ano com maior volume.\n",
        "top_period_year_high = df.nlargest(3, columns='Volume')['Period Year']\n",
        "top_period_year_high.reset_index().iloc[:,1:]"
      ],
      "execution_count": null,
      "outputs": [
        {
          "output_type": "execute_result",
          "data": {
            "text/html": [
              "<div>\n",
              "<style scoped>\n",
              "    .dataframe tbody tr th:only-of-type {\n",
              "        vertical-align: middle;\n",
              "    }\n",
              "\n",
              "    .dataframe tbody tr th {\n",
              "        vertical-align: top;\n",
              "    }\n",
              "\n",
              "    .dataframe thead th {\n",
              "        text-align: right;\n",
              "    }\n",
              "</style>\n",
              "<table border=\"1\" class=\"dataframe\">\n",
              "  <thead>\n",
              "    <tr style=\"text-align: right;\">\n",
              "      <th></th>\n",
              "      <th>Period Year</th>\n",
              "    </tr>\n",
              "  </thead>\n",
              "  <tbody>\n",
              "    <tr>\n",
              "      <th>0</th>\n",
              "      <td>Inicio</td>\n",
              "    </tr>\n",
              "    <tr>\n",
              "      <th>1</th>\n",
              "      <td>Inicio</td>\n",
              "    </tr>\n",
              "    <tr>\n",
              "      <th>2</th>\n",
              "      <td>Inicio</td>\n",
              "    </tr>\n",
              "  </tbody>\n",
              "</table>\n",
              "</div>"
            ],
            "text/plain": [
              "  Period Year\n",
              "0      Inicio\n",
              "1      Inicio\n",
              "2      Inicio"
            ]
          },
          "metadata": {
            "tags": []
          },
          "execution_count": 104
        }
      ]
    },
    {
      "cell_type": "markdown",
      "metadata": {
        "id": "0ZW5v53JJujc",
        "colab_type": "text"
      },
      "source": [
        "Esse é um projeto bem básico de análise exploratoria, com foco em analisar um ativo específico da bolsa de valores brasileira. Eu utilizei um dataset vindo da API do Yahoo Finanças no período de 2016, levantei alguns insights em relação as variávies e também criei algumas para auxiliar na minhas explorações que eu acreditei que seriam válidas.\n",
        "\n",
        "Retirei alguns insights que podem auxiliar como período do ano com maior alta/baixa, períodos do mês com maior alta/baixa, relação de volume/preço.\n",
        "\n",
        "Com essa informações que são apenas de estudo e de um ativo em questão podemos entender como esse átivo se movimentou no ano de 2016, e podemos prever ou até entender se esse é um padrão, claro que precisaria fazer mais análises e também comparar anos, mas fica uma dica. "
      ]
    },
    {
      "cell_type": "code",
      "metadata": {
        "id": "iCGJ-uoxJ63X",
        "colab_type": "code",
        "colab": {}
      },
      "source": [
        ""
      ],
      "execution_count": null,
      "outputs": []
    }
  ]
}